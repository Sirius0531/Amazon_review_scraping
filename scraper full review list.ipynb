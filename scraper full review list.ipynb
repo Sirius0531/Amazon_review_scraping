{
 "cells": [
  {
   "cell_type": "code",
   "execution_count": 71,
   "id": "8dd1876a",
   "metadata": {},
   "outputs": [],
   "source": [
    "import requests\n",
    "from bs4 import BeautifulSoup\n",
    "import pandas as pd\n",
    "import re"
   ]
  },
  {
   "cell_type": "code",
   "execution_count": 72,
   "id": "caec07cd",
   "metadata": {},
   "outputs": [
    {
     "data": {
      "text/plain": [
       "'https://www.amazon.com/product-reviews/B017YTYKPK/ref=cm_cr_arp_d_paging_btm_next_1?ie=UTF8&reviewerType=all_reviews&pageNumber=1'"
      ]
     },
     "execution_count": 72,
     "metadata": {},
     "output_type": "execute_result"
    }
   ],
   "source": [
    "asin='B017YTYKPK'\n",
    "# https://www.amazon.com/product-reviews/B083BY3B2T/ref=cm_cr_getr_mb_paging_btm_4?ie=UTF8&reviewerType=all_reviews&pageNumber=4\n",
    "base_link='https://www.amazon.com/product-reviews/'\n",
    "review_link='/ref=cm_cr_arp_d_paging_btm_next_1?ie=UTF8&reviewerType=all_reviews&pageNumber='\n",
    "init_page='1'\n",
    "header={'User-Agent': 'Mozilla/5.0 (Windows NT 10.0; Win64; x64) AppleWebKit/537.36 (KHTML, like Gecko) Chrome/77.0.3865.90 Safari/537.36','referer':'https://www.amazon.com/s?k=nike+shoes+men&crid=28WRS5SFLWWZ6&sprefix=nike%2Caps%2C357&ref=nb_sb_ss_organic-diversity_2_4'}\n",
    "full_link=base_link+asin+review_link+init_page\n",
    "full_link"
   ]
  },
  {
   "cell_type": "code",
   "execution_count": 73,
   "id": "08611562",
   "metadata": {},
   "outputs": [
    {
     "name": "stdout",
     "output_type": "stream",
     "text": [
      "15\n"
     ]
    }
   ],
   "source": [
    "full = requests.get(review_page,headers=header, params={'wait':2})\n",
    "init = BeautifulSoup(full.text, 'html.parser')\n",
    "page_str=str(init.find('div', {'data-hook':'cr-filter-info-review-rating-count'}).text.split())\n",
    "page_num=round(int((re.findall('\\d+',page_str)[1]))/10)+1\n",
    "print(page_num)\n",
    "# page_number=round(float(((init.find('div', {'data-hook':'cr-filter-info-review-rating-count'}).text.replace('global', '').replace(',', '').replace('|', '').split())[3]))/10)+1"
   ]
  },
  {
   "cell_type": "code",
   "execution_count": 74,
   "id": "d6eea1d9",
   "metadata": {},
   "outputs": [
    {
     "name": "stdout",
     "output_type": "stream",
     "text": [
      "Getting review from:\n",
      "https://www.amazon.com/product-reviews/B017YTYKPK/ref=cm_cr_arp_d_paging_btm_next_1?ie=UTF8&reviewerType=all_reviews&pageNumber=1\n",
      "15\n",
      "Getting review from:\n",
      "https://www.amazon.com/product-reviews/B017YTYKPK/ref=cm_cr_arp_d_paging_btm_next_1?ie=UTF8&reviewerType=all_reviews&pageNumber=2\n",
      "15\n",
      "Getting review from:\n",
      "https://www.amazon.com/product-reviews/B017YTYKPK/ref=cm_cr_arp_d_paging_btm_next_1?ie=UTF8&reviewerType=all_reviews&pageNumber=3\n",
      "15\n",
      "Getting review from:\n",
      "https://www.amazon.com/product-reviews/B017YTYKPK/ref=cm_cr_arp_d_paging_btm_next_1?ie=UTF8&reviewerType=all_reviews&pageNumber=4\n",
      "15\n",
      "Getting review from:\n",
      "https://www.amazon.com/product-reviews/B017YTYKPK/ref=cm_cr_arp_d_paging_btm_next_1?ie=UTF8&reviewerType=all_reviews&pageNumber=5\n",
      "15\n",
      "Getting review from:\n",
      "https://www.amazon.com/product-reviews/B017YTYKPK/ref=cm_cr_arp_d_paging_btm_next_1?ie=UTF8&reviewerType=all_reviews&pageNumber=6\n",
      "15\n",
      "Getting review from:\n",
      "https://www.amazon.com/product-reviews/B017YTYKPK/ref=cm_cr_arp_d_paging_btm_next_1?ie=UTF8&reviewerType=all_reviews&pageNumber=7\n",
      "15\n",
      "Getting review from:\n",
      "https://www.amazon.com/product-reviews/B017YTYKPK/ref=cm_cr_arp_d_paging_btm_next_1?ie=UTF8&reviewerType=all_reviews&pageNumber=8\n",
      "15\n",
      "Getting review from:\n",
      "https://www.amazon.com/product-reviews/B017YTYKPK/ref=cm_cr_arp_d_paging_btm_next_1?ie=UTF8&reviewerType=all_reviews&pageNumber=9\n",
      "15\n",
      "Getting review from:\n",
      "https://www.amazon.com/product-reviews/B017YTYKPK/ref=cm_cr_arp_d_paging_btm_next_1?ie=UTF8&reviewerType=all_reviews&pageNumber=10\n",
      "15\n",
      "Getting review from:\n",
      "https://www.amazon.com/product-reviews/B017YTYKPK/ref=cm_cr_arp_d_paging_btm_next_1?ie=UTF8&reviewerType=all_reviews&pageNumber=11\n",
      "15\n",
      "Getting review from:\n",
      "https://www.amazon.com/product-reviews/B017YTYKPK/ref=cm_cr_arp_d_paging_btm_next_1?ie=UTF8&reviewerType=all_reviews&pageNumber=12\n",
      "15\n",
      "Getting review from:\n",
      "https://www.amazon.com/product-reviews/B017YTYKPK/ref=cm_cr_arp_d_paging_btm_next_1?ie=UTF8&reviewerType=all_reviews&pageNumber=13\n",
      "15\n",
      "Getting review from:\n",
      "https://www.amazon.com/product-reviews/B017YTYKPK/ref=cm_cr_arp_d_paging_btm_next_1?ie=UTF8&reviewerType=all_reviews&pageNumber=14\n",
      "15\n"
     ]
    }
   ],
   "source": [
    "reviewlist = []\n",
    "\n",
    "\n",
    "\n",
    "def get_soup(url):\n",
    "    r = requests.get(review_page,headers=header, params={'wait':2})\n",
    "    soup = BeautifulSoup(r.text, 'html.parser')\n",
    "    return soup\n",
    "    \n",
    "\n",
    "\n",
    "def get_reviews(soup):\n",
    "    reviews = soup.find_all('div', {'data-hook': 'review'})\n",
    "    \n",
    "    try:\n",
    "        for item in reviews:\n",
    "            \n",
    "#             print(str(item.find('div', {'class':'a-row a-spacing-small'}).find('span',{'data-hook':'helpful-vote-statement'}).text).replace(' people found this helpful', ''))\n",
    "            review = {\n",
    "            'title': item.find('a', {'data-hook': 'review-title'}).text.strip(),\n",
    "            'rating':  float(item.find('i', {'data-hook': 'review-star-rating'}).text.replace('out of 5 stars', '').strip()),\n",
    "            'body': str(item.find('span', {'data-hook': 'review-body'}).text.replace('The media could not be loaded.', '').strip()),\n",
    "#             'helpful':  float(str(item.find('div', {'class':'a-row a-spacing-small'}).find('span',{'data-hook':'helpful-vote-statement'}).text).replace(' people found this helpful', '')),\n",
    "            \n",
    "            }\n",
    "            reviewlist.append(review)\n",
    "    except:\n",
    "        pass\n",
    "    \n",
    "\n",
    "for x in range(1,page_num):\n",
    "    review_page=f'{base_link}{asin}{review_link}{x}'\n",
    "    soup = get_soup(review_page)\n",
    "    print(\"Getting review from:\")\n",
    "    print(review_page)\n",
    "  \n",
    "    get_reviews(soup)\n",
    "#     print(len(reviewlist))\n",
    "    if not soup.find('li', {'class': 'a-disabled a-last'}):\n",
    "        pass\n",
    "    else:\n",
    "        break"
   ]
  },
  {
   "cell_type": "code",
   "execution_count": 5,
   "id": "72bac05d",
   "metadata": {},
   "outputs": [
    {
     "ename": "KeyError",
     "evalue": "'helpful'",
     "output_type": "error",
     "traceback": [
      "\u001b[1;31m---------------------------------------------------------------------------\u001b[0m",
      "\u001b[1;31mKeyError\u001b[0m                                  Traceback (most recent call last)",
      "\u001b[1;32m~\\AppData\\Local\\Temp/ipykernel_1172/865410484.py\u001b[0m in \u001b[0;36m<module>\u001b[1;34m\u001b[0m\n\u001b[0;32m      1\u001b[0m \u001b[1;32mfor\u001b[0m \u001b[0mr\u001b[0m \u001b[1;32min\u001b[0m \u001b[0mrange\u001b[0m\u001b[1;33m(\u001b[0m\u001b[0mlen\u001b[0m\u001b[1;33m(\u001b[0m\u001b[0mreviewlist\u001b[0m\u001b[1;33m)\u001b[0m\u001b[1;33m)\u001b[0m\u001b[1;33m:\u001b[0m\u001b[1;33m\u001b[0m\u001b[1;33m\u001b[0m\u001b[0m\n\u001b[0;32m      2\u001b[0m     \u001b[1;32mif\u001b[0m \u001b[1;33m(\u001b[0m\u001b[0mreviewlist\u001b[0m\u001b[1;33m[\u001b[0m\u001b[0mr\u001b[0m\u001b[1;33m]\u001b[0m\u001b[1;33m[\u001b[0m\u001b[1;34m'title'\u001b[0m\u001b[1;33m]\u001b[0m\u001b[1;33m==\u001b[0m\u001b[1;34m\"Very powerful\"\u001b[0m\u001b[1;33m)\u001b[0m\u001b[1;33m:\u001b[0m\u001b[1;33m\u001b[0m\u001b[1;33m\u001b[0m\u001b[0m\n\u001b[1;32m----> 3\u001b[1;33m         \u001b[0mprint\u001b[0m\u001b[1;33m(\u001b[0m\u001b[0mreviewlist\u001b[0m\u001b[1;33m[\u001b[0m\u001b[0mr\u001b[0m\u001b[1;33m]\u001b[0m\u001b[1;33m[\u001b[0m\u001b[1;34m'helpful'\u001b[0m\u001b[1;33m]\u001b[0m\u001b[1;33m,\u001b[0m\u001b[0mreviewlist\u001b[0m\u001b[1;33m[\u001b[0m\u001b[0mr\u001b[0m\u001b[1;33m]\u001b[0m\u001b[1;33m[\u001b[0m\u001b[1;34m'body'\u001b[0m\u001b[1;33m]\u001b[0m\u001b[1;33m)\u001b[0m\u001b[1;33m\u001b[0m\u001b[1;33m\u001b[0m\u001b[0m\n\u001b[0m",
      "\u001b[1;31mKeyError\u001b[0m: 'helpful'"
     ]
    }
   ],
   "source": [
    "# for r in range(len(reviewlist)):\n",
    "#     if (reviewlist[r]['title']==\"Very powerful\"):\n",
    "#         print(reviewlist[r]['helpful'],reviewlist[r]['body'])"
   ]
  },
  {
   "cell_type": "code",
   "execution_count": 75,
   "id": "57b6cdb7",
   "metadata": {},
   "outputs": [
    {
     "name": "stdout",
     "output_type": "stream",
     "text": [
      "Done.\n"
     ]
    }
   ],
   "source": [
    "df = pd.DataFrame(reviewlist)\n",
    "df.to_excel('review_scraping1.xlsx', index=False)\n",
    "print('Done.')"
   ]
  },
  {
   "cell_type": "code",
   "execution_count": null,
   "id": "16fb0130",
   "metadata": {},
   "outputs": [],
   "source": []
  }
 ],
 "metadata": {
  "kernelspec": {
   "display_name": "Python 3 (ipykernel)",
   "language": "python",
   "name": "python3"
  },
  "language_info": {
   "codemirror_mode": {
    "name": "ipython",
    "version": 3
   },
   "file_extension": ".py",
   "mimetype": "text/x-python",
   "name": "python",
   "nbconvert_exporter": "python",
   "pygments_lexer": "ipython3",
   "version": "3.7.11"
  }
 },
 "nbformat": 4,
 "nbformat_minor": 5
}
